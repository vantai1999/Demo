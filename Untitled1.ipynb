{
 "cells": [
  {
   "cell_type": "code",
   "execution_count": 52,
   "metadata": {},
   "outputs": [],
   "source": [
    "import scipy.io as scio\n",
    "import numpy as np\n",
    "import matplotlib.pyplot as plt\n",
    "from tensorflow.keras.utils import to_categorical\n",
    "%matplotlib inline\n",
    "from tensorflow import keras\n",
    "import  tensorflow as tf\n",
    "from tensorflow.keras.models import  load_model"
   ]
  },
  {
   "cell_type": "code",
   "execution_count": 53,
   "metadata": {},
   "outputs": [
    {
     "data": {
      "text/plain": [
       "{'__header__': b'MATLAB 5.0 MAT-file, Platform: GLNXA64, Created on: Sun Oct 16 13:09:09 2011',\n",
       " '__version__': '1.0',\n",
       " '__globals__': [],\n",
       " 'X': array([[0., 0., 0., ..., 0., 0., 0.],\n",
       "        [0., 0., 0., ..., 0., 0., 0.],\n",
       "        [0., 0., 0., ..., 0., 0., 0.],\n",
       "        ...,\n",
       "        [0., 0., 0., ..., 0., 0., 0.],\n",
       "        [0., 0., 0., ..., 0., 0., 0.],\n",
       "        [0., 0., 0., ..., 0., 0., 0.]]),\n",
       " 'y': array([[10],\n",
       "        [10],\n",
       "        [10],\n",
       "        ...,\n",
       "        [ 9],\n",
       "        [ 9],\n",
       "        [ 9]], dtype=uint8)}"
      ]
     },
     "execution_count": 53,
     "metadata": {},
     "output_type": "execute_result"
    }
   ],
   "source": [
    "data = scio.loadmat(\"ex3data1.mat\")\n",
    "data"
   ]
  },
  {
   "cell_type": "code",
   "execution_count": 54,
   "metadata": {},
   "outputs": [
    {
     "data": {
      "text/plain": [
       "[PhysicalDevice(name='/physical_device:CPU:0', device_type='CPU'),\n",
       " PhysicalDevice(name='/physical_device:XLA_CPU:0', device_type='XLA_CPU'),\n",
       " PhysicalDevice(name='/physical_device:XLA_GPU:0', device_type='XLA_GPU')]"
      ]
     },
     "execution_count": 54,
     "metadata": {},
     "output_type": "execute_result"
    }
   ],
   "source": [
    "tf.config.experimental.list_physical_devices()"
   ]
  },
  {
   "cell_type": "code",
   "execution_count": 28,
   "metadata": {},
   "outputs": [],
   "source": [
    "X = data[\"X\"]\n",
    "Y = data[\"y\"]"
   ]
  },
  {
   "cell_type": "code",
   "execution_count": 29,
   "metadata": {},
   "outputs": [
    {
     "data": {
      "text/plain": [
       "array([[0., 0., 0., ..., 0., 0., 0.],\n",
       "       [0., 0., 0., ..., 0., 0., 0.],\n",
       "       [0., 0., 0., ..., 0., 0., 0.],\n",
       "       ...,\n",
       "       [0., 0., 0., ..., 0., 0., 0.],\n",
       "       [0., 0., 0., ..., 0., 0., 0.],\n",
       "       [0., 0., 0., ..., 0., 0., 0.]])"
      ]
     },
     "execution_count": 29,
     "metadata": {},
     "output_type": "execute_result"
    }
   ],
   "source": [
    "X"
   ]
  },
  {
   "cell_type": "code",
   "execution_count": 30,
   "metadata": {},
   "outputs": [
    {
     "data": {
      "text/plain": [
       "(20, 20)"
      ]
     },
     "execution_count": 30,
     "metadata": {},
     "output_type": "execute_result"
    }
   ],
   "source": [
    " X = X.reshape(5000,20,20)\n",
    "X[0].shape"
   ]
  },
  {
   "cell_type": "code",
   "execution_count": 31,
   "metadata": {},
   "outputs": [
    {
     "data": {
      "text/plain": [
       "<matplotlib.image.AxesImage at 0x2375f2080a0>"
      ]
     },
     "execution_count": 31,
     "metadata": {},
     "output_type": "execute_result"
    },
    {
     "data": {
      "image/png": "[encoded data removed]",
      "text/plain": [
       "<Figure size 288x288 with 1 Axes>"
      ]
     },
     "metadata": {
      "needs_background": "light"
     },
     "output_type": "display_data"
    }
   ],
   "source": [
    "plt.matshow(X[1000])"
   ]
  },
  {
   "cell_type": "code",
   "execution_count": 32,
   "metadata": {},
   "outputs": [
    {
     "data": {
      "text/plain": [
       "(5000, 1)"
      ]
     },
     "execution_count": 32,
     "metadata": {},
     "output_type": "execute_result"
    }
   ],
   "source": [
    "Y.shape"
   ]
  },
  {
   "cell_type": "code",
   "execution_count": 33,
   "metadata": {},
   "outputs": [],
   "source": [
    "Y= Y.reshape(5000,)"
   ]
  },
  {
   "cell_type": "code",
   "execution_count": 34,
   "metadata": {},
   "outputs": [
    {
     "data": {
      "text/plain": [
       "(5000,)"
      ]
     },
     "execution_count": 34,
     "metadata": {},
     "output_type": "execute_result"
    }
   ],
   "source": [
    "Y.shape"
   ]
  },
  {
   "cell_type": "code",
   "execution_count": 35,
   "metadata": {},
   "outputs": [
    {
     "data": {
      "text/plain": [
       "10"
      ]
     },
     "execution_count": 35,
     "metadata": {},
     "output_type": "execute_result"
    }
   ],
   "source": [
    "Y[0]"
   ]
  },
  {
   "cell_type": "code",
   "execution_count": 36,
   "metadata": {},
   "outputs": [],
   "source": [
    "for i in range(0,5000):\n",
    "    if Y[i] == 10:\n",
    "        Y[i]=0"
   ]
  },
  {
   "cell_type": "code",
   "execution_count": 37,
   "metadata": {},
   "outputs": [
    {
     "data": {
      "text/plain": [
       "0"
      ]
     },
     "execution_count": 37,
     "metadata": {},
     "output_type": "execute_result"
    }
   ],
   "source": [
    "Y[0]"
   ]
  },
  {
   "cell_type": "code",
   "execution_count": 38,
   "metadata": {},
   "outputs": [],
   "source": [
    "# from sklearn.preprocessing import OneHotEncoder  \n",
    "# encoder = OneHotEncoder(sparse=False)  \n",
    "# Y = encoder.fit_transform(Y)  \n",
    "# Y[0]"
   ]
  },
  {
   "cell_type": "code",
   "execution_count": 39,
   "metadata": {},
   "outputs": [],
   "source": [
    "from sklearn.model_selection import train_test_split"
   ]
  },
  {
   "cell_type": "code",
   "execution_count": 40,
   "metadata": {},
   "outputs": [],
   "source": [
    "X_train_val,X_test,Y_train_val,Y_test = train_test_split(X,Y,test_size=0.2)\n",
    "X_train,X_val,Y_train,Y_val = train_test_split(X_train_val,Y_train_val,test_size=0.2)"
   ]
  },
  {
   "cell_type": "code",
   "execution_count": 41,
   "metadata": {},
   "outputs": [],
   "source": [
    "X_train = X_train/255\n",
    "X_test =X_test/255\n",
    "X_val = X_val/255"
   ]
  },
  {
   "cell_type": "code",
   "execution_count": 42,
   "metadata": {},
   "outputs": [
    {
     "data": {
      "text/plain": [
       "(800, 400)"
      ]
     },
     "execution_count": 42,
     "metadata": {},
     "output_type": "execute_result"
    }
   ],
   "source": [
    "X_train_flattend = X_train.reshape(len(X_train),20*20)\n",
    "X_test_flattend =  X_test.reshape(len(X_test),20*20)\n",
    "X_val_flattend  = X_val.reshape(len(X_val),20*20)\n",
    "X_train_flattend.shape\n",
    "\n",
    "X_train_flattend.shape\n",
    "X_val_flattend.shape"
   ]
  },
  {
   "cell_type": "code",
   "execution_count": 43,
   "metadata": {},
   "outputs": [
    {
     "data": {
      "text/plain": [
       "8"
      ]
     },
     "execution_count": 43,
     "metadata": {},
     "output_type": "execute_result"
    }
   ],
   "source": [
    "Y_test[0]"
   ]
  },
  {
   "cell_type": "code",
   "execution_count": 44,
   "metadata": {},
   "outputs": [
    {
     "data": {
      "text/plain": [
       "array([0., 1., 0., 0., 0., 0., 0., 0., 0., 0.], dtype=float32)"
      ]
     },
     "execution_count": 44,
     "metadata": {},
     "output_type": "execute_result"
    }
   ],
   "source": [
    "Y_train = to_categorical(Y_train)\n",
    "Y_test = to_categorical(Y_test)\n",
    "Y_val = to_categorical(Y_val)\n",
    "Y_test[2]\n"
   ]
  },
  {
   "cell_type": "code",
   "execution_count": 45,
   "metadata": {},
   "outputs": [
    {
     "data": {
      "text/plain": [
       "(3200, 10)"
      ]
     },
     "execution_count": 45,
     "metadata": {},
     "output_type": "execute_result"
    }
   ],
   "source": [
    "Y_train.shape"
   ]
  },
  {
   "cell_type": "code",
   "execution_count": 46,
   "metadata": {},
   "outputs": [
    {
     "data": {
      "text/plain": [
       "(800, 20, 20)"
      ]
     },
     "execution_count": 46,
     "metadata": {},
     "output_type": "execute_result"
    }
   ],
   "source": [
    "X_val.shape"
   ]
  },
  {
   "cell_type": "code",
   "execution_count": 47,
   "metadata": {},
   "outputs": [],
   "source": [
    "from tensorflow import keras\n",
    "import  tensorflow as tf\n",
    "from tensorflow.keras.models import  load_model"
   ]
  },
  {
   "cell_type": "code",
   "execution_count": 51,
   "metadata": {},
   "outputs": [
    {
     "name": "stdout",
     "output_type": "stream",
     "text": [
      "Epoch 1/100\n",
      " 91/100 [==========================>...] - ETA: 0s - loss: 2.2980 - accuracy: 0.1453WARNING:tensorflow:Callbacks method `on_test_batch_begin` is slow compared to the batch time (batch time: 0.0000s vs `on_test_batch_begin` time: 0.0010s). Check your callbacks.\n",
      "100/100 [==============================] - 0s 4ms/step - loss: 2.2974 - accuracy: 0.1609 - val_loss: 2.2916 - val_accuracy: 0.3088\n",
      "Epoch 2/100\n",
      "100/100 [==============================] - 0s 2ms/step - loss: 2.2769 - accuracy: 0.3569 - val_loss: 2.2635 - val_accuracy: 0.4988\n",
      "Epoch 3/100\n",
      "100/100 [==============================] - 0s 2ms/step - loss: 2.2362 - accuracy: 0.4647 - val_loss: 2.2121 - val_accuracy: 0.5512\n",
      "Epoch 4/100\n",
      "100/100 [==============================] - 0s 2ms/step - loss: 2.1657 - accuracy: 0.5841 - val_loss: 2.1232 - val_accuracy: 0.5962\n",
      "Epoch 5/100\n",
      "100/100 [==============================] - 0s 2ms/step - loss: 2.0436 - accuracy: 0.5800 - val_loss: 1.9637 - val_accuracy: 0.7100\n",
      "Epoch 6/100\n",
      "100/100 [==============================] - 0s 2ms/step - loss: 1.8500 - accuracy: 0.6928 - val_loss: 1.7612 - val_accuracy: 0.6112\n",
      "Epoch 7/100\n",
      "100/100 [==============================] - 0s 2ms/step - loss: 1.6516 - accuracy: 0.6669 - val_loss: 1.5881 - val_accuracy: 0.6900\n",
      "Epoch 8/100\n",
      "100/100 [==============================] - 0s 2ms/step - loss: 1.5024 - accuracy: 0.6931 - val_loss: 1.4599 - val_accuracy: 0.7188\n",
      "Epoch 9/100\n",
      "100/100 [==============================] - 0s 2ms/step - loss: 1.3850 - accuracy: 0.7044 - val_loss: 1.3552 - val_accuracy: 0.7138\n",
      "Epoch 10/100\n",
      "100/100 [==============================] - 0s 2ms/step - loss: 1.2923 - accuracy: 0.7222 - val_loss: 1.2721 - val_accuracy: 0.7212\n",
      "Epoch 11/100\n",
      "100/100 [==============================] - 0s 2ms/step - loss: 1.2157 - accuracy: 0.7188 - val_loss: 1.1991 - val_accuracy: 0.7563\n",
      "Epoch 12/100\n",
      "100/100 [==============================] - 0s 2ms/step - loss: 1.1484 - accuracy: 0.7406 - val_loss: 1.1391 - val_accuracy: 0.7663\n",
      "Epoch 13/100\n",
      "100/100 [==============================] - 0s 2ms/step - loss: 1.0936 - accuracy: 0.7522 - val_loss: 1.0882 - val_accuracy: 0.7688\n",
      "Epoch 14/100\n",
      "100/100 [==============================] - 0s 2ms/step - loss: 1.0426 - accuracy: 0.7625 - val_loss: 1.0423 - val_accuracy: 0.7538\n",
      "Epoch 15/100\n",
      "100/100 [==============================] - 0s 2ms/step - loss: 0.9987 - accuracy: 0.7691 - val_loss: 0.9982 - val_accuracy: 0.7825\n",
      "Epoch 16/100\n",
      "100/100 [==============================] - 0s 2ms/step - loss: 0.9583 - accuracy: 0.7797 - val_loss: 0.9607 - val_accuracy: 0.7887\n",
      "Epoch 17/100\n",
      "100/100 [==============================] - 0s 2ms/step - loss: 0.9219 - accuracy: 0.7841 - val_loss: 0.9272 - val_accuracy: 0.7937\n",
      "Epoch 18/100\n",
      "100/100 [==============================] - 0s 2ms/step - loss: 0.8904 - accuracy: 0.7950 - val_loss: 0.8931 - val_accuracy: 0.7950\n",
      "Epoch 19/100\n",
      "100/100 [==============================] - 0s 2ms/step - loss: 0.8600 - accuracy: 0.7984 - val_loss: 0.8654 - val_accuracy: 0.8125\n",
      "Epoch 20/100\n",
      "100/100 [==============================] - 0s 2ms/step - loss: 0.8312 - accuracy: 0.8050 - val_loss: 0.8452 - val_accuracy: 0.8138\n",
      "Epoch 21/100\n",
      "100/100 [==============================] - 0s 2ms/step - loss: 0.8072 - accuracy: 0.8100 - val_loss: 0.8184 - val_accuracy: 0.8263\n",
      "Epoch 22/100\n",
      "100/100 [==============================] - 0s 2ms/step - loss: 0.7812 - accuracy: 0.8150 - val_loss: 0.7996 - val_accuracy: 0.8250\n",
      "Epoch 23/100\n",
      "100/100 [==============================] - 0s 2ms/step - loss: 0.7596 - accuracy: 0.8259 - val_loss: 0.7726 - val_accuracy: 0.8213\n",
      "Epoch 24/100\n",
      "100/100 [==============================] - 0s 2ms/step - loss: 0.7394 - accuracy: 0.8266 - val_loss: 0.7572 - val_accuracy: 0.8313\n",
      "Epoch 25/100\n",
      "100/100 [==============================] - 0s 2ms/step - loss: 0.7189 - accuracy: 0.8284 - val_loss: 0.7365 - val_accuracy: 0.8462\n",
      "Epoch 26/100\n",
      "100/100 [==============================] - 0s 2ms/step - loss: 0.7006 - accuracy: 0.8316 - val_loss: 0.7233 - val_accuracy: 0.8388\n",
      "Epoch 27/100\n",
      "100/100 [==============================] - 0s 2ms/step - loss: 0.6835 - accuracy: 0.8356 - val_loss: 0.7036 - val_accuracy: 0.8413\n",
      "Epoch 28/100\n",
      "100/100 [==============================] - 0s 2ms/step - loss: 0.6673 - accuracy: 0.8378 - val_loss: 0.6892 - val_accuracy: 0.8325\n",
      "Epoch 29/100\n",
      "100/100 [==============================] - 0s 2ms/step - loss: 0.6514 - accuracy: 0.8441 - val_loss: 0.6748 - val_accuracy: 0.8475\n",
      "Epoch 30/100\n",
      "100/100 [==============================] - 0s 2ms/step - loss: 0.6362 - accuracy: 0.8484 - val_loss: 0.6623 - val_accuracy: 0.8450\n",
      "Epoch 31/100\n",
      "100/100 [==============================] - 0s 2ms/step - loss: 0.6223 - accuracy: 0.8512 - val_loss: 0.6482 - val_accuracy: 0.8512\n",
      "Epoch 32/100\n",
      "100/100 [==============================] - 0s 3ms/step - loss: 0.6089 - accuracy: 0.8550 - val_loss: 0.6367 - val_accuracy: 0.8562\n",
      "Epoch 33/100\n",
      "100/100 [==============================] - 0s 2ms/step - loss: 0.5965 - accuracy: 0.8553 - val_loss: 0.6243 - val_accuracy: 0.8562\n",
      "Epoch 34/100\n",
      "100/100 [==============================] - 0s 2ms/step - loss: 0.5847 - accuracy: 0.8609 - val_loss: 0.6142 - val_accuracy: 0.8562\n",
      "Epoch 35/100\n",
      "100/100 [==============================] - 0s 2ms/step - loss: 0.5734 - accuracy: 0.8572 - val_loss: 0.6053 - val_accuracy: 0.8562\n",
      "Epoch 36/100\n",
      "100/100 [==============================] - 0s 2ms/step - loss: 0.5621 - accuracy: 0.8662 - val_loss: 0.5960 - val_accuracy: 0.8637\n",
      "Epoch 37/100\n",
      "100/100 [==============================] - 0s 2ms/step - loss: 0.5515 - accuracy: 0.8662 - val_loss: 0.5859 - val_accuracy: 0.8525\n",
      "Epoch 38/100\n",
      "100/100 [==============================] - 0s 2ms/step - loss: 0.5422 - accuracy: 0.8675 - val_loss: 0.5784 - val_accuracy: 0.8675\n",
      "Epoch 39/100\n",
      "100/100 [==============================] - 0s 2ms/step - loss: 0.5330 - accuracy: 0.8703 - val_loss: 0.5677 - val_accuracy: 0.8637\n",
      "Epoch 40/100\n",
      "100/100 [==============================] - 0s 2ms/step - loss: 0.5239 - accuracy: 0.8650 - val_loss: 0.5600 - val_accuracy: 0.8700\n",
      "Epoch 41/100\n",
      "100/100 [==============================] - 0s 2ms/step - loss: 0.5152 - accuracy: 0.8737 - val_loss: 0.5541 - val_accuracy: 0.8675\n",
      "Epoch 42/100\n",
      "100/100 [==============================] - 0s 4ms/step - loss: 0.5060 - accuracy: 0.8728 - val_loss: 0.5456 - val_accuracy: 0.8700\n",
      "Epoch 43/100\n",
      "100/100 [==============================] - 0s 2ms/step - loss: 0.4980 - accuracy: 0.8781 - val_loss: 0.5419 - val_accuracy: 0.8675\n",
      "Epoch 44/100\n",
      "100/100 [==============================] - 0s 2ms/step - loss: 0.4910 - accuracy: 0.8766 - val_loss: 0.5308 - val_accuracy: 0.8650\n",
      "Epoch 45/100\n",
      "100/100 [==============================] - 0s 2ms/step - loss: 0.4834 - accuracy: 0.8791 - val_loss: 0.5251 - val_accuracy: 0.8725\n",
      "Epoch 46/100\n",
      "100/100 [==============================] - 0s 2ms/step - loss: 0.4762 - accuracy: 0.8772 - val_loss: 0.5215 - val_accuracy: 0.8763\n",
      "Epoch 47/100\n",
      "100/100 [==============================] - 0s 2ms/step - loss: 0.4700 - accuracy: 0.8809 - val_loss: 0.5156 - val_accuracy: 0.8712\n",
      "Epoch 48/100\n",
      "100/100 [==============================] - 0s 2ms/step - loss: 0.4643 - accuracy: 0.8822 - val_loss: 0.5082 - val_accuracy: 0.8737\n",
      "Epoch 49/100\n",
      "100/100 [==============================] - 0s 2ms/step - loss: 0.4580 - accuracy: 0.8825 - val_loss: 0.5033 - val_accuracy: 0.8775\n",
      "Epoch 50/100\n",
      "100/100 [==============================] - 0s 2ms/step - loss: 0.4522 - accuracy: 0.8853 - val_loss: 0.4984 - val_accuracy: 0.8775\n",
      "Epoch 51/100\n",
      "100/100 [==============================] - 0s 2ms/step - loss: 0.4464 - accuracy: 0.8875 - val_loss: 0.4953 - val_accuracy: 0.8750\n",
      "Epoch 52/100\n",
      "100/100 [==============================] - 0s 2ms/step - loss: 0.4398 - accuracy: 0.8891 - val_loss: 0.4899 - val_accuracy: 0.8737\n",
      "Epoch 53/100\n",
      "100/100 [==============================] - 0s 2ms/step - loss: 0.4352 - accuracy: 0.8897 - val_loss: 0.4831 - val_accuracy: 0.8788\n",
      "Epoch 54/100\n",
      "100/100 [==============================] - 0s 2ms/step - loss: 0.4291 - accuracy: 0.8956 - val_loss: 0.4798 - val_accuracy: 0.8775\n",
      "Epoch 55/100\n",
      "100/100 [==============================] - 0s 3ms/step - loss: 0.4243 - accuracy: 0.8909 - val_loss: 0.4746 - val_accuracy: 0.8788\n",
      "Epoch 56/100\n"
     ]
    },
    {
     "name": "stdout",
     "output_type": "stream",
     "text": [
      "100/100 [==============================] - 0s 3ms/step - loss: 0.4190 - accuracy: 0.8956 - val_loss: 0.4711 - val_accuracy: 0.8725\n",
      "Epoch 57/100\n",
      "100/100 [==============================] - 0s 3ms/step - loss: 0.4156 - accuracy: 0.8959 - val_loss: 0.4659 - val_accuracy: 0.8825\n",
      "Epoch 58/100\n",
      "100/100 [==============================] - 0s 3ms/step - loss: 0.4118 - accuracy: 0.8938 - val_loss: 0.4638 - val_accuracy: 0.8825\n",
      "Epoch 59/100\n",
      "100/100 [==============================] - 0s 3ms/step - loss: 0.4060 - accuracy: 0.8966 - val_loss: 0.4570 - val_accuracy: 0.8850\n",
      "Epoch 60/100\n",
      "100/100 [==============================] - 0s 3ms/step - loss: 0.4026 - accuracy: 0.8975 - val_loss: 0.4568 - val_accuracy: 0.8775\n",
      "Epoch 61/100\n",
      "100/100 [==============================] - 0s 3ms/step - loss: 0.3995 - accuracy: 0.8984 - val_loss: 0.4526 - val_accuracy: 0.8800\n",
      "Epoch 62/100\n",
      "100/100 [==============================] - 0s 2ms/step - loss: 0.3950 - accuracy: 0.8969 - val_loss: 0.4483 - val_accuracy: 0.8888\n",
      "Epoch 63/100\n",
      "100/100 [==============================] - 0s 3ms/step - loss: 0.3914 - accuracy: 0.9006 - val_loss: 0.4441 - val_accuracy: 0.8913\n",
      "Epoch 64/100\n",
      "100/100 [==============================] - 0s 2ms/step - loss: 0.3879 - accuracy: 0.8981 - val_loss: 0.4433 - val_accuracy: 0.8813\n",
      "Epoch 65/100\n",
      "100/100 [==============================] - 0s 3ms/step - loss: 0.3840 - accuracy: 0.9019 - val_loss: 0.4412 - val_accuracy: 0.8825\n",
      "Epoch 66/100\n",
      "100/100 [==============================] - 0s 3ms/step - loss: 0.3795 - accuracy: 0.9016 - val_loss: 0.4356 - val_accuracy: 0.8888\n",
      "Epoch 67/100\n",
      "100/100 [==============================] - 0s 3ms/step - loss: 0.3763 - accuracy: 0.9016 - val_loss: 0.4371 - val_accuracy: 0.8875\n",
      "Epoch 68/100\n",
      "100/100 [==============================] - 0s 2ms/step - loss: 0.3732 - accuracy: 0.9028 - val_loss: 0.4322 - val_accuracy: 0.8863\n",
      "Epoch 69/100\n",
      "100/100 [==============================] - 0s 2ms/step - loss: 0.3699 - accuracy: 0.9041 - val_loss: 0.4283 - val_accuracy: 0.8900\n",
      "Epoch 70/100\n",
      "100/100 [==============================] - 0s 2ms/step - loss: 0.3665 - accuracy: 0.9066 - val_loss: 0.4278 - val_accuracy: 0.8863\n",
      "Epoch 71/100\n",
      "100/100 [==============================] - 0s 2ms/step - loss: 0.3625 - accuracy: 0.9062 - val_loss: 0.4252 - val_accuracy: 0.8875\n",
      "Epoch 72/100\n",
      "100/100 [==============================] - 0s 3ms/step - loss: 0.3622 - accuracy: 0.9050 - val_loss: 0.4244 - val_accuracy: 0.8813\n",
      "Epoch 73/100\n",
      "100/100 [==============================] - 0s 2ms/step - loss: 0.3583 - accuracy: 0.9081 - val_loss: 0.4182 - val_accuracy: 0.8888\n",
      "Epoch 74/100\n",
      "100/100 [==============================] - 0s 2ms/step - loss: 0.3549 - accuracy: 0.9084 - val_loss: 0.4180 - val_accuracy: 0.8900\n",
      "Epoch 75/100\n",
      "100/100 [==============================] - 0s 2ms/step - loss: 0.3525 - accuracy: 0.9097 - val_loss: 0.4156 - val_accuracy: 0.8913\n",
      "Epoch 76/100\n",
      "100/100 [==============================] - 0s 2ms/step - loss: 0.3494 - accuracy: 0.9097 - val_loss: 0.4166 - val_accuracy: 0.8888\n",
      "Epoch 77/100\n",
      "100/100 [==============================] - 0s 2ms/step - loss: 0.3485 - accuracy: 0.9094 - val_loss: 0.4102 - val_accuracy: 0.8913\n",
      "Epoch 78/100\n",
      "100/100 [==============================] - 0s 2ms/step - loss: 0.3460 - accuracy: 0.9100 - val_loss: 0.4065 - val_accuracy: 0.8888\n",
      "Epoch 79/100\n",
      "100/100 [==============================] - 0s 3ms/step - loss: 0.3425 - accuracy: 0.9091 - val_loss: 0.4077 - val_accuracy: 0.8925\n",
      "Epoch 80/100\n",
      "100/100 [==============================] - 0s 2ms/step - loss: 0.3405 - accuracy: 0.9109 - val_loss: 0.4086 - val_accuracy: 0.8900\n",
      "Epoch 81/100\n",
      "100/100 [==============================] - 0s 2ms/step - loss: 0.3390 - accuracy: 0.9122 - val_loss: 0.4036 - val_accuracy: 0.8900\n",
      "Epoch 82/100\n",
      "100/100 [==============================] - 0s 2ms/step - loss: 0.3350 - accuracy: 0.9141 - val_loss: 0.4027 - val_accuracy: 0.8963\n",
      "Epoch 83/100\n",
      "100/100 [==============================] - 0s 2ms/step - loss: 0.3333 - accuracy: 0.9106 - val_loss: 0.4001 - val_accuracy: 0.8950\n",
      "Epoch 84/100\n",
      "100/100 [==============================] - 0s 3ms/step - loss: 0.3307 - accuracy: 0.9141 - val_loss: 0.4017 - val_accuracy: 0.8813\n",
      "Epoch 85/100\n",
      "100/100 [==============================] - 0s 3ms/step - loss: 0.3288 - accuracy: 0.9119 - val_loss: 0.3964 - val_accuracy: 0.8938\n",
      "Epoch 86/100\n",
      "100/100 [==============================] - 0s 3ms/step - loss: 0.3280 - accuracy: 0.9141 - val_loss: 0.3991 - val_accuracy: 0.8875\n",
      "Epoch 87/100\n",
      "100/100 [==============================] - 0s 2ms/step - loss: 0.3249 - accuracy: 0.9153 - val_loss: 0.3938 - val_accuracy: 0.8938\n",
      "Epoch 88/100\n",
      "100/100 [==============================] - 0s 4ms/step - loss: 0.3231 - accuracy: 0.9166 - val_loss: 0.3947 - val_accuracy: 0.8938\n",
      "Epoch 89/100\n",
      "100/100 [==============================] - 0s 3ms/step - loss: 0.3212 - accuracy: 0.9153 - val_loss: 0.3912 - val_accuracy: 0.8925\n",
      "Epoch 90/100\n",
      "100/100 [==============================] - 0s 3ms/step - loss: 0.3183 - accuracy: 0.9150 - val_loss: 0.3916 - val_accuracy: 0.8875\n",
      "Epoch 91/100\n",
      "100/100 [==============================] - 0s 3ms/step - loss: 0.3172 - accuracy: 0.9150 - val_loss: 0.3888 - val_accuracy: 0.8963\n",
      "Epoch 92/100\n",
      "100/100 [==============================] - 0s 3ms/step - loss: 0.3148 - accuracy: 0.9172 - val_loss: 0.3895 - val_accuracy: 0.8825\n",
      "Epoch 93/100\n",
      "100/100 [==============================] - 0s 3ms/step - loss: 0.3139 - accuracy: 0.9159 - val_loss: 0.3871 - val_accuracy: 0.9000\n",
      "Epoch 94/100\n",
      "100/100 [==============================] - 0s 2ms/step - loss: 0.3123 - accuracy: 0.9162 - val_loss: 0.3845 - val_accuracy: 0.8988\n",
      "Epoch 95/100\n",
      "100/100 [==============================] - 0s 2ms/step - loss: 0.3107 - accuracy: 0.9191 - val_loss: 0.3835 - val_accuracy: 0.8963\n",
      "Epoch 96/100\n",
      "100/100 [==============================] - ETA: 0s - loss: 0.3010 - accuracy: 0.91 - 0s 2ms/step - loss: 0.3095 - accuracy: 0.9162 - val_loss: 0.3826 - val_accuracy: 0.9000\n",
      "Epoch 97/100\n",
      "100/100 [==============================] - 0s 2ms/step - loss: 0.3076 - accuracy: 0.9206 - val_loss: 0.3829 - val_accuracy: 0.8975\n",
      "Epoch 98/100\n",
      "100/100 [==============================] - 0s 2ms/step - loss: 0.3054 - accuracy: 0.9200 - val_loss: 0.3817 - val_accuracy: 0.8938\n",
      "Epoch 99/100\n",
      "100/100 [==============================] - 0s 2ms/step - loss: 0.3029 - accuracy: 0.9203 - val_loss: 0.3765 - val_accuracy: 0.8975\n",
      "Epoch 100/100\n",
      "100/100 [==============================] - 0s 2ms/step - loss: 0.3018 - accuracy: 0.9197 - val_loss: 0.3768 - val_accuracy: 0.8975\n"
     ]
    },
    {
     "data": {
      "text/plain": [
       "<tensorflow.python.keras.callbacks.History at 0x23764bc61c0>"
      ]
     },
     "execution_count": 51,
     "metadata": {},
     "output_type": "execute_result"
    }
   ],
   "source": [
    "model = keras.Sequential([\n",
    "#     keras.layers.Flatten(input_shape=(20,20)),\n",
    "    keras.layers.Dense(100,input_shape=(400,),activation='relu'),\n",
    "    keras.layers.Dense(10,activation='sigmoid')\n",
    "])\n",
    "model.compile(\n",
    "    optimizer='adam',\n",
    "#     loss= 'sparse_categorical_crossentropy',\n",
    "    loss='categorical_crossentropy',\n",
    "    metrics=['accuracy']\n",
    ")\n",
    "\n",
    "\n",
    "\n",
    "model.fit(X_train_flattend,Y_train,epochs=100, validation_data=(X_val_flattend,Y_val))"
   ]
  },
  {
   "cell_type": "code",
   "execution_count": null,
   "metadata": {},
   "outputs": [],
   "source": [
    "model.evaluate(X_test_flattend,Y_test)"
   ]
  },
  {
   "cell_type": "code",
   "execution_count": null,
   "metadata": {},
   "outputs": [],
   "source": [
    "Y_pre = model.predict(X_test_flattend)\n"
   ]
  },
  {
   "cell_type": "code",
   "execution_count": null,
   "metadata": {},
   "outputs": [],
   "source": [
    "np.argmax(Y_pre[700])"
   ]
  },
  {
   "cell_type": "code",
   "execution_count": null,
   "metadata": {},
   "outputs": [],
   "source": [
    "Y_test[700]"
   ]
  },
  {
   "cell_type": "code",
   "execution_count": null,
   "metadata": {},
   "outputs": [],
   "source": [
    "y_predicted_label = [ np.argmax(i) for i in Y_pre]\n",
    "y_predicted_label[:8]"
   ]
  },
  {
   "cell_type": "code",
   "execution_count": null,
   "metadata": {},
   "outputs": [],
   "source": [
    "cm =tf.math.confusion_matrix(labels= Y_test,predictions = y_predicted_label)"
   ]
  },
  {
   "cell_type": "code",
   "execution_count": null,
   "metadata": {},
   "outputs": [],
   "source": [
    "import seaborn as sn\n",
    "# plt.figure(figsize=(10,7))\n",
    "sn.heatmap(cm,annot = True,fmt='d')\n",
    "plt.xlabel('Predict')\n",
    "plt.ylabel('Truth')"
   ]
  },
  {
   "cell_type": "code",
   "execution_count": null,
   "metadata": {},
   "outputs": [],
   "source": [
    "model = keras.Sequential([\n",
    "#     keras.layers.Flatten(input_shape=(20,20)),\n",
    "    keras.layers.Dense(300,input_shape=(400,),activation='relu'),\n",
    "    keras.layers.Dense(10,activation='sigmoid')\n",
    "])\n",
    "model.compile(\n",
    "    optimizer='adam',\n",
    "    loss= 'sparse_categorical_crossentropy',\n",
    "    metrics=['accuracy']\n",
    ")\n",
    "\n",
    "\n",
    "\n",
    "model.fit(X_train_flattend,Y_train,epochs=1000,batch_size=7, validation_data=(X_val_flattend,Y_val))"
   ]
  },
  {
   "cell_type": "code",
   "execution_count": null,
   "metadata": {},
   "outputs": [],
   "source": [
    "model.evaluate(X_test_flattend,Y_test)"
   ]
  },
  {
   "cell_type": "code",
   "execution_count": null,
   "metadata": {},
   "outputs": [],
   "source": [
    "model = keras.Sequential([\n",
    "#     keras.layers.Flatten(input_shape=(20,20)),\n",
    "    keras.layers.Dense(100,input_shape=(400,),activation='relu'),\n",
    "    keras.layers.Dense(50,activation='relu'),\n",
    "    keras.layers.Dense(10,activation='sigmoid')\n",
    "])\n",
    "model.compile(\n",
    "    optimizer='adam',\n",
    "    loss= 'sparse_categorical_crossentropy',\n",
    "    metrics=['accuracy']\n",
    ")\n",
    "\n",
    "\n",
    "\n",
    "model.fit(X_train_flattend,Y_train,epochs=1000,batch_size=7, validation_data=(X_val_flattend,Y_val))"
   ]
  },
  {
   "cell_type": "code",
   "execution_count": null,
   "metadata": {},
   "outputs": [],
   "source": [
    "model.evaluate(X_test_flattend,Y_test)"
   ]
  },
  {
   "cell_type": "code",
   "execution_count": 57,
   "metadata": {},
   "outputs": [],
   "source": [
    "def get_model():\n",
    "    model = keras.Sequential([\n",
    "#     keras.layers.Flatten(input_shape=(20,20)),\n",
    "    keras.layers.Dense(100,input_shape=(400,),activation='relu'),\n",
    "    keras.layers.Dense(10,activation='sigmoid')\n",
    "    ])\n",
    "    model.compile(\n",
    "    optimizer='adam',\n",
    "#     loss= 'sparse_categorical_crossentropy',\n",
    "    loss='categorical_crossentropy',\n",
    "    metrics=['accuracy']\n",
    "    )\n",
    "    return model\n"
   ]
  },
  {
   "cell_type": "code",
   "execution_count": 81,
   "metadata": {},
   "outputs": [
    {
     "name": "stdout",
     "output_type": "stream",
     "text": [
      "Epoch 1/10\n",
      "458/458 [==============================] - 1s 2ms/step - loss: 2.2842 - accuracy: 0.2691 - val_loss: 2.2492 - val_accuracy: 0.4375\n",
      "Epoch 2/10\n",
      "458/458 [==============================] - 1s 1ms/step - loss: 2.1431 - accuracy: 0.4309 - val_loss: 1.9882 - val_accuracy: 0.6687\n",
      "Epoch 3/10\n",
      "458/458 [==============================] - 1s 1ms/step - loss: 1.7448 - accuracy: 0.6247 - val_loss: 1.5458 - val_accuracy: 0.6363\n",
      "Epoch 4/10\n",
      "458/458 [==============================] - 1s 2ms/step - loss: 1.3909 - accuracy: 0.6725 - val_loss: 1.2926 - val_accuracy: 0.7262\n",
      "Epoch 5/10\n",
      "458/458 [==============================] - 1s 2ms/step - loss: 1.1961 - accuracy: 0.7200 - val_loss: 1.1432 - val_accuracy: 0.7250\n",
      "Epoch 6/10\n",
      "458/458 [==============================] - 1s 2ms/step - loss: 1.0670 - accuracy: 0.7431 - val_loss: 1.0347 - val_accuracy: 0.7588\n",
      "Epoch 7/10\n",
      "458/458 [==============================] - 1s 2ms/step - loss: 0.9696 - accuracy: 0.7647 - val_loss: 0.9519 - val_accuracy: 0.7900\n",
      "Epoch 8/10\n",
      "458/458 [==============================] - 1s 2ms/step - loss: 0.8961 - accuracy: 0.7750 - val_loss: 0.8879 - val_accuracy: 0.8075\n",
      "Epoch 9/10\n",
      "458/458 [==============================] - ETA: 0s - loss: 0.8372 - accuracy: 0.79 - 1s 1ms/step - loss: 0.8325 - accuracy: 0.8003 - val_loss: 0.8402 - val_accuracy: 0.7875\n",
      "Epoch 10/10\n",
      "458/458 [==============================] - 1s 2ms/step - loss: 0.7808 - accuracy: 0.8084 - val_loss: 0.7802 - val_accuracy: 0.8238\n",
      "7.84 s ± 0 ns per loop (mean ± std. dev. of 1 run, 1 loop each)\n"
     ]
    }
   ],
   "source": [
    "%%timeit -n1 -r1\n",
    "with tf.device('/CPU:0'):\n",
    "    cpu_model = get_model()\n",
    "    cpu_model.fit(X_train_flattend,Y_train,epochs=10,batch_size=7, validation_data=(X_val_flattend,Y_val))"
   ]
  },
  {
   "cell_type": "code",
   "execution_count": 82,
   "metadata": {},
   "outputs": [
    {
     "name": "stdout",
     "output_type": "stream",
     "text": [
      "Epoch 1/10\n",
      "458/458 [==============================] - 1s 2ms/step - loss: 2.2853 - accuracy: 0.2862 - val_loss: 2.2529 - val_accuracy: 0.3388\n",
      "Epoch 2/10\n",
      "458/458 [==============================] - 1s 1ms/step - loss: 2.1630 - accuracy: 0.5016 - val_loss: 2.0381 - val_accuracy: 0.5813\n",
      "Epoch 3/10\n",
      "458/458 [==============================] - 1s 1ms/step - loss: 1.8190 - accuracy: 0.5816 - val_loss: 1.6182 - val_accuracy: 0.6888\n",
      "Epoch 4/10\n",
      "458/458 [==============================] - 1s 1ms/step - loss: 1.4664 - accuracy: 0.6697 - val_loss: 1.3746 - val_accuracy: 0.6675\n",
      "Epoch 5/10\n",
      "458/458 [==============================] - 1s 2ms/step - loss: 1.2692 - accuracy: 0.7031 - val_loss: 1.2109 - val_accuracy: 0.7350\n",
      "Epoch 6/10\n",
      "458/458 [==============================] - 1s 2ms/step - loss: 1.1334 - accuracy: 0.7306 - val_loss: 1.1073 - val_accuracy: 0.7425\n",
      "Epoch 7/10\n",
      "458/458 [==============================] - 1s 2ms/step - loss: 1.0329 - accuracy: 0.7578 - val_loss: 1.0032 - val_accuracy: 0.7750\n",
      "Epoch 8/10\n",
      "458/458 [==============================] - 1s 2ms/step - loss: 0.9527 - accuracy: 0.7800 - val_loss: 0.9352 - val_accuracy: 0.7788\n",
      "Epoch 9/10\n",
      "458/458 [==============================] - 1s 2ms/step - loss: 0.8846 - accuracy: 0.7953 - val_loss: 0.8816 - val_accuracy: 0.8062\n",
      "Epoch 10/10\n",
      "458/458 [==============================] - 1s 1ms/step - loss: 0.8288 - accuracy: 0.8066 - val_loss: 0.8235 - val_accuracy: 0.8075\n",
      "7.75 s ± 0 ns per loop (mean ± std. dev. of 1 run, 1 loop each)\n"
     ]
    }
   ],
   "source": [
    "%%timeit -n1 -r1\n",
    "with tf.device('/GPU'):\n",
    "    cpu_model = get_model()\n",
    "    cpu_model.fit(X_train_flattend,Y_train,epochs=10,batch_size=7, validation_data=(X_val_flattend,Y_val))"
   ]
  },
  {
   "cell_type": "code",
   "execution_count": null,
   "metadata": {},
   "outputs": [],
   "source": []
  }
 ],
 "metadata": {
  "kernelspec": {
   "display_name": "Python 3",
   "language": "python",
   "name": "python3"
  },
  "language_info": {
   "codemirror_mode": {
    "name": "ipython",
    "version": 3
   },
   "file_extension": ".py",
   "mimetype": "text/x-python",
   "name": "python",
   "nbconvert_exporter": "python",
   "pygments_lexer": "ipython3",
   "version": "3.8.6"
  }
 },
 "nbformat": 4,
 "nbformat_minor": 4
}
